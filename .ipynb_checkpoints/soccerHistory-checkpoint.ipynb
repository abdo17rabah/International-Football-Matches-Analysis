{
 "cells": [
  {
   "cell_type": "markdown",
   "metadata": {},
   "source": [
    "# Analyse historique des  équipes nationales\n"
   ]
  },
  {
   "cell_type": "code",
   "execution_count": 1,
   "metadata": {},
   "outputs": [],
   "source": [
    "import numpy as np\n",
    "import matplotlib.pyplot as plt\n",
    "import pandas as pd\n",
    "data= pd.read_csv(\"results.csv\", index_col='date', parse_dates=True)"
   ]
  },
  {
   "cell_type": "code",
   "execution_count": 2,
   "metadata": {},
   "outputs": [],
   "source": [
    "def getGameResult(scores):\n",
    "    if scores['home_score'] > scores['away_score']:\n",
    "        return 'home_win'\n",
    "    elif scores['home_score'] == scores['away_score']:\n",
    "        return 'draw'\n",
    "    else:\n",
    "        return 'away_win'\n",
    "\n",
    "data['result'] = data[['home_score', 'away_score']].apply(getGameResult, axis=1)\n",
    "\n",
    "def getWinner(s):\n",
    "    if s['result'] == 'draw':\n",
    "        return \n",
    "    elif s['result'] == 'home_win':\n",
    "        return s['home_team']\n",
    "    else:\n",
    "        return s['away_team']\n",
    "data['winner'] = data[['home_team', 'away_team', 'result']].apply(getWinner, axis=1)"
   ]
  },
  {
   "cell_type": "code",
   "execution_count": 3,
   "metadata": {},
   "outputs": [
    {
     "data": {
      "text/html": [
       "<div>\n",
       "<style scoped>\n",
       "    .dataframe tbody tr th:only-of-type {\n",
       "        vertical-align: middle;\n",
       "    }\n",
       "\n",
       "    .dataframe tbody tr th {\n",
       "        vertical-align: top;\n",
       "    }\n",
       "\n",
       "    .dataframe thead th {\n",
       "        text-align: right;\n",
       "    }\n",
       "</style>\n",
       "<table border=\"1\" class=\"dataframe\">\n",
       "  <thead>\n",
       "    <tr style=\"text-align: right;\">\n",
       "      <th></th>\n",
       "      <th>home_team</th>\n",
       "      <th>away_team</th>\n",
       "      <th>home_score</th>\n",
       "      <th>away_score</th>\n",
       "      <th>tournament</th>\n",
       "      <th>city</th>\n",
       "      <th>country</th>\n",
       "      <th>neutral</th>\n",
       "      <th>result</th>\n",
       "      <th>winner</th>\n",
       "    </tr>\n",
       "    <tr>\n",
       "      <th>date</th>\n",
       "      <th></th>\n",
       "      <th></th>\n",
       "      <th></th>\n",
       "      <th></th>\n",
       "      <th></th>\n",
       "      <th></th>\n",
       "      <th></th>\n",
       "      <th></th>\n",
       "      <th></th>\n",
       "      <th></th>\n",
       "    </tr>\n",
       "  </thead>\n",
       "  <tbody>\n",
       "    <tr>\n",
       "      <th>1872-11-30</th>\n",
       "      <td>Scotland</td>\n",
       "      <td>England</td>\n",
       "      <td>0</td>\n",
       "      <td>0</td>\n",
       "      <td>Friendly</td>\n",
       "      <td>Glasgow</td>\n",
       "      <td>Scotland</td>\n",
       "      <td>False</td>\n",
       "      <td>draw</td>\n",
       "      <td>None</td>\n",
       "    </tr>\n",
       "    <tr>\n",
       "      <th>1873-03-08</th>\n",
       "      <td>England</td>\n",
       "      <td>Scotland</td>\n",
       "      <td>4</td>\n",
       "      <td>2</td>\n",
       "      <td>Friendly</td>\n",
       "      <td>London</td>\n",
       "      <td>England</td>\n",
       "      <td>False</td>\n",
       "      <td>home_win</td>\n",
       "      <td>England</td>\n",
       "    </tr>\n",
       "    <tr>\n",
       "      <th>1874-03-07</th>\n",
       "      <td>Scotland</td>\n",
       "      <td>England</td>\n",
       "      <td>2</td>\n",
       "      <td>1</td>\n",
       "      <td>Friendly</td>\n",
       "      <td>Glasgow</td>\n",
       "      <td>Scotland</td>\n",
       "      <td>False</td>\n",
       "      <td>home_win</td>\n",
       "      <td>Scotland</td>\n",
       "    </tr>\n",
       "    <tr>\n",
       "      <th>1875-03-06</th>\n",
       "      <td>England</td>\n",
       "      <td>Scotland</td>\n",
       "      <td>2</td>\n",
       "      <td>2</td>\n",
       "      <td>Friendly</td>\n",
       "      <td>London</td>\n",
       "      <td>England</td>\n",
       "      <td>False</td>\n",
       "      <td>draw</td>\n",
       "      <td>None</td>\n",
       "    </tr>\n",
       "    <tr>\n",
       "      <th>1876-03-04</th>\n",
       "      <td>Scotland</td>\n",
       "      <td>England</td>\n",
       "      <td>3</td>\n",
       "      <td>0</td>\n",
       "      <td>Friendly</td>\n",
       "      <td>Glasgow</td>\n",
       "      <td>Scotland</td>\n",
       "      <td>False</td>\n",
       "      <td>home_win</td>\n",
       "      <td>Scotland</td>\n",
       "    </tr>\n",
       "  </tbody>\n",
       "</table>\n",
       "</div>"
      ],
      "text/plain": [
       "           home_team away_team  home_score  away_score tournament     city  \\\n",
       "date                                                                         \n",
       "1872-11-30  Scotland   England           0           0   Friendly  Glasgow   \n",
       "1873-03-08   England  Scotland           4           2   Friendly   London   \n",
       "1874-03-07  Scotland   England           2           1   Friendly  Glasgow   \n",
       "1875-03-06   England  Scotland           2           2   Friendly   London   \n",
       "1876-03-04  Scotland   England           3           0   Friendly  Glasgow   \n",
       "\n",
       "             country  neutral    result    winner  \n",
       "date                                               \n",
       "1872-11-30  Scotland    False      draw      None  \n",
       "1873-03-08   England    False  home_win   England  \n",
       "1874-03-07  Scotland    False  home_win  Scotland  \n",
       "1875-03-06   England    False      draw      None  \n",
       "1876-03-04  Scotland    False  home_win  Scotland  "
      ]
     },
     "execution_count": 3,
     "metadata": {},
     "output_type": "execute_result"
    }
   ],
   "source": [
    "data.head()"
   ]
  },
  {
   "cell_type": "markdown",
   "metadata": {},
   "source": [
    "# Historique du plus grand nombre de victoires des 30 premieres équipes"
   ]
  },
  {
   "cell_type": "code",
   "execution_count": 5,
   "metadata": {
    "scrolled": false
   },
   "outputs": [
    {
     "data": {
      "text/plain": [
       "<matplotlib.axes._subplots.AxesSubplot at 0x1b69c611040>"
      ]
     },
     "execution_count": 5,
     "metadata": {},
     "output_type": "execute_result"
    },
    {
     "data": {
      "image/png": "[encoded data removed]",
      "text/plain": [
       "<Figure size 1440x576 with 1 Axes>"
      ]
     },
     "metadata": {
      "needs_background": "light"
     },
     "output_type": "display_data"
    }
   ],
   "source": [
    "# Historique du plus grand nombre de victoires des 30 premieres équipes\n",
    "winners = data['winner'][data['tournament'] != 'Friendly'].value_counts().iloc[0:30]\n",
    "winners.plot.bar(x=None, y=None, figsize=(20,8), title=\"Historique du plus grand nombre de victoires des 30 premieres équipes\")\n"
   ]
  },
  {
   "cell_type": "markdown",
   "metadata": {},
   "source": [
    "# les 10 premières équipes qui ont le plus gros nombre de buts à domicile"
   ]
  },
  {
   "cell_type": "code",
   "execution_count": null,
   "metadata": {},
   "outputs": [],
   "source": [
    "#les 10 premières équipes qui ont le plus gros nombre de buts à domicile\n",
    "maxScoreHome = data[data['home_score'] > data['away_score']]['home_team'].value_counts()\n",
    "maxScoreHome.iloc[:20].plot.bar(title=\"les 10 premières équipes qui ont le plus gros nombre de buts à domicile\", figsize=(20, 8))\n",
    "print(maxScoreHome.iloc[:20])"
   ]
  },
  {
   "cell_type": "markdown",
   "metadata": {},
   "source": [
    "# les 10 premières équipes qui ont le plus gros nombre de buts à l'éxterieur"
   ]
  },
  {
   "cell_type": "code",
   "execution_count": null,
   "metadata": {},
   "outputs": [],
   "source": [
    "#les 10 premières équipes qui ont le plus gros nombre de buts à l'éxterieur\n",
    "maxScoreAway = data[data['away_score'] > data['home_score']]['away_team'].value_counts()\n",
    "maxScoreAway.iloc[:20].plot.bar(title=\"les 10 premières équipes qui ont le plus gros nombre de buts à l'éxterieur\", figsize=(20, 8))\n",
    "print(maxScoreAway)"
   ]
  },
  {
   "cell_type": "markdown",
   "metadata": {},
   "source": [
    "# les 10 premières équipes qui ont le plus encaissé à domicile"
   ]
  },
  {
   "cell_type": "code",
   "execution_count": null,
   "metadata": {},
   "outputs": [],
   "source": [
    "#les 10 premières équipes qui ont le plus encaissé à domicile\n",
    "minScoreAgaintHome = data[data['away_score'] > data['home_score']]['home_team'].value_counts().sort_values(ascending=False)\n",
    "minScoreAgaintHome.iloc[:20].plot.bar(title=\"les 10 premières équipes qui ont le plus encaissé à domicile\", figsize=(20, 8))\n",
    "print(minScoreAgaintHome)"
   ]
  },
  {
   "cell_type": "markdown",
   "metadata": {},
   "source": [
    "# les 10 premières équipes qui ont le plus encaissé à l'éxterieur"
   ]
  },
  {
   "cell_type": "code",
   "execution_count": null,
   "metadata": {},
   "outputs": [],
   "source": [
    "#les 10 premières équipes qui ont le plus encaissé à l'éxterieur\n",
    "minScoreAgaintHome = data[data['away_score'] < data['home_score']]['away_team'].value_counts().sort_values(ascending=False)\n",
    "minScoreAgaintHome.iloc[:20].plot.bar(title=\"les 10 premières équipes qui ont le plus encaissé à domicile\", figsize=(20, 8))\n",
    "print(minScoreAgaintHome)"
   ]
  },
  {
   "cell_type": "markdown",
   "metadata": {},
   "source": [
    "# Les statistiques des 10 équipes les plus victorieuses  durant différentes éres"
   ]
  },
  {
   "cell_type": "code",
   "execution_count": null,
   "metadata": {},
   "outputs": [],
   "source": [
    "# Les statistiques des 10 équipes les plus victorieuses  durant différentes éres\n",
    "plt.figure(figsize=(40,30))\n",
    "plt.subplot(2,4, 1)\n",
    "plt.title('1972:1982')\n",
    "plt.ylabel(\"nombres de victoire\")\n",
    "data['1972':'1982']['winner'].value_counts().iloc[1:11].plot.bar()\n",
    "plt.subplot(2,4, 2)\n",
    "plt.title('1872:1972')\n",
    "plt.ylabel(\"nombres de victoire\")\n",
    "data['1872':'1972']['winner'].value_counts().iloc[1:11].plot.bar()\n",
    "plt.subplot(2,4, 3)\n",
    "plt.title('1972:1982')\n",
    "plt.ylabel(\"nombres de victoire\")\n",
    "data['1972':'1982']['winner'].value_counts().iloc[1:11].plot.bar()\n",
    "plt.subplot(2,4, 4)\n",
    "plt.title('1982:1992')\n",
    "plt.ylabel(\"nombres de victoire\")\n",
    "data['1982':'1992']['winner'].value_counts().iloc[1:11].plot.bar()\n",
    "plt.subplot(2,4, 5)\n",
    "plt.title('1992:2002')\n",
    "plt.ylabel(\"nombres de victoire\")\n",
    "data['1992':'2002']['winner'].value_counts().iloc[1:11].plot.bar()\n",
    "plt.subplot(2,4, 6)\n",
    "plt.title('2002:2012')\n",
    "plt.ylabel(\"nombres de victoire\")\n",
    "data['2002':'2012']['winner'].value_counts().iloc[1:11].plot.bar()\n",
    "plt.subplot(2,4, 7)\n",
    "plt.title('2012:2020')\n",
    "plt.ylabel(\"nombres de victoire\")\n",
    "data['2012':'2020']['winner'].value_counts().iloc[1:11].plot.bar()\n",
    "plt.subplot(2,4, 8)\n",
    "plt.title('2018:2020')\n",
    "plt.ylabel(\"nombres de victoire\")\n",
    "data['2019':'2020']['winner'].value_counts().iloc[1:11].plot.bar()\n"
   ]
  },
  {
   "cell_type": "markdown",
   "metadata": {},
   "source": [
    "# Moyenne de but à domicile et à l'éxterieur en 2019"
   ]
  },
  {
   "cell_type": "code",
   "execution_count": null,
   "metadata": {},
   "outputs": [],
   "source": [
    "# Moyenne de but à domicile et à l'éxterieur en 2019\n",
    "plt.figure(figsize=(12,8))\n",
    "plt.ylabel(\"moyenne des buts\")\n",
    "data['2019']['home_score'].resample('M').mean().plot(label=\"moyenne home par mois durant 2019-2020\", lw=3, ls=\":\", alpha=0.8)\n",
    "data['2019']['away_score'].resample('M').mean().plot(label=\"moyenne away par mois durant 2019-2020\", lw=2, ls=\"--\", alpha=0.8)\n",
    "plt.legend()\n",
    "plt.show()\n",
    "\n"
   ]
  },
  {
   "cell_type": "markdown",
   "metadata": {},
   "source": [
    "# Moy, Min, Max  de but à domicile et à l'éxterieur en 2019"
   ]
  },
  {
   "cell_type": "code",
   "execution_count": null,
   "metadata": {},
   "outputs": [],
   "source": [
    "goals = data['2019']['home_score'].resample('M').agg(['mean','std','max','min'])\n",
    "\n",
    "# Le graphe\n",
    "plt.figure(figsize=(25,12))\n",
    "plt.ylabel(\"nombres buts\")\n",
    "goals['mean'].plot(label=\"moyenne par mois 2019\")\n",
    "plt.fill_between(goals.index, goals['max'], goals['min'], alpha=0.2, label=\"min-max buts à domicile par mois\")\n",
    "plt.legend()\n",
    "plt.show()\n"
   ]
  },
  {
   "cell_type": "code",
   "execution_count": null,
   "metadata": {},
   "outputs": [],
   "source": []
  }
 ],
 "metadata": {
  "kernelspec": {
   "display_name": "Python 3",
   "language": "python",
   "name": "python3"
  },
  "language_info": {
   "codemirror_mode": {
    "name": "ipython",
    "version": 3
   },
   "file_extension": ".py",
   "mimetype": "text/x-python",
   "name": "python",
   "nbconvert_exporter": "python",
   "pygments_lexer": "ipython3",
   "version": "3.7.6"
  }
 },
 "nbformat": 4,
 "nbformat_minor": 4
}
